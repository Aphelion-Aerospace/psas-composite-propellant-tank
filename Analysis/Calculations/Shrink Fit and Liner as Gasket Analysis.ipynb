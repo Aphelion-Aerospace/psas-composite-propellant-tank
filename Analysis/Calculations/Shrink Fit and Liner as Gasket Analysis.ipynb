{
 "cells": [
  {
   "cell_type": "markdown",
   "metadata": {
    "collapsed": true
   },
   "source": [
    "# Analysis of Sealing Potential of Liner Captured Between Aluminum Rings Via Shrink Fit.\n",
    "\n",
    "## First Objective: \n",
    "Determine how much pressure will be placed on the liner at both room and cryogenic temperatures, based on the aluminum outer ring's inner diameter, an aluminum end cap's outer diameter, and the thickness of the PTFE liner. Compare this to the strength of the PTFE material at each of these temperatures.\n",
    "\n",
    "## Second Objective:\n",
    "If the liner compression is at or exceeds the load necessary to seal the tank, determine the shrink fit pressure at the aluminum interface that can be achieved while maintaining this liner pressure.   \n",
    "\n",
    "## Assumptions: \n",
    "\n",
    "* Since little theory has been found governing the sealing potential of radially loaded gaskets in the shape of an annulus, we take the approach that we can break down the elements of the ASME pressure vessel code equations and apply them to our geometry.\n",
    "\n",
    "* The PTFE's strength is not sufficient to prevent the shrunken aluminum from returning to its original room temperature size, or deform either of the aluminum parts. In other words, the aluminum parts are rigid bodies moving relative to the PTFE as they expand or contract.\n",
    "\n",
    "* The interface of the aluminum parts is at the inner diameter of the outer aluminum ring, regardless of intereference thickness. ($R = D_{i,ring}/2$)\n",
    "\n",
    "* Stress concentrations in the liner that occur at the ends of the aluminum parts can be ignored.\n",
    "\n",
    "* The internal pressure of the vessel will have a negligible effect on the portion of the liner that is compressed between shrink-fitted aluminum parts.\n",
    " "
   ]
  },
  {
   "cell_type": "code",
   "execution_count": 1,
   "metadata": {
    "collapsed": true
   },
   "outputs": [],
   "source": [
    "# Import packages here:\n",
    "\n",
    "import math as m\n",
    "import numpy as np\n",
    "from IPython.display import Image\n",
    "import matplotlib.pyplot as plt"
   ]
  },
  {
   "cell_type": "code",
   "execution_count": 25,
   "metadata": {
    "collapsed": false
   },
   "outputs": [],
   "source": [
    "# Properties of Materials (engineeringtoolbox.com, Cengel, Tian, DuPont, http://www.dtic.mil/dtic/tr/fulltext/u2/438718.pdf)\n",
    "\n",
    "# Coefficient of Thermal Expansion\n",
    "alphaAluminum = 0.0000131  # in/in/*F\n",
    "alphaPTFE = 0.0000478  # in/in/*F (over the range in question)\n",
    "\n",
    "# Elastic Moduli\n",
    "\n",
    "EAluminum = 10000000  # psi\n",
    "EAluminumCryo = 11000000  # psi\n",
    "EPTFE = 40000  # psi\n",
    "EPTFECryo = 500000  # psi\n",
    "\n",
    "# Yield Strength\n",
    "sigmaY_PTFE = 1300  # psi\n",
    "sigmaY_PTFECryo = 19000  # psi\n",
    "\n",
    "# Poisson's Ratio\n",
    "\n",
    "nuAluminum = 0.33  # in/in\n",
    "nuPTFE = 0.46  # in/in\n",
    "\n",
    "# Temperature Change Between Ambient and LN2  \n",
    "\n",
    "DeltaT = 389  # *F"
   ]
  },
  {
   "cell_type": "code",
   "execution_count": 26,
   "metadata": {
    "collapsed": true
   },
   "outputs": [],
   "source": [
    "# Geometry of Parts\n",
    "\n",
    "# Main Ring Outer Radius\n",
    "roMain = 2.0000  # in\n",
    "\n",
    "# End Cap Inner Radius\n",
    "riCap = 1.3750  # in\n",
    "\n",
    "# Interfacial Radius\n",
    "r = 1.5000  # in\n",
    "\n",
    "# Liner Thickness\n",
    "t = 0.125  # in"
   ]
  },
  {
   "cell_type": "markdown",
   "metadata": {},
   "source": [
    "## ASME Pressure Vessel Code Equations\n",
    "\n",
    "This code was developed for flat gaskets compressed between flanges. There are two equations, both give a value for the total bolt force needed to compress a gasket such that a seal is achieved at working pressure. Whichever equation gives a greater load for a specific design application is the one to be used. The following are the equations as they appear in _Gaskets. Design, Selection, and Testing_ by Daniel E. Czernik:\n",
    "\n",
    "$$W_{m_2} = \\pi bGy$$ \n",
    "\n",
    "$$W_{m_1} = \\frac{\\pi}{4}G^2P + 2\\pi bGmP$$\n",
    "\n",
    "Where $W_{m_1}$ and $W_{m_2}$ are total bolt loads in pounds, $b$ is the effective gasket contact seating width in inches, $G$ is the mean diameter of the gasket contact face in inches, $y$ is the gasket contact surface unit seating load in pounds per square inch, $m$ is a dimensionless gasket factor, and $P$ is the maximum working internal pressure of the vessel.\n",
    "\n",
    "For a typical round gasket, the effective gasket contact seating width is the difference between the outer and inner radii, or $r_o - r_i$. The mean diameter of such a gasket is simply the sum of the inner and outer radii, or $r_o + r_i$. When multiplied together, the product is the difference of the squares of the radii: $(r_o - r_i)(r_o + r_i) = (r_o^2 - r_i^2)$\n",
    "\n",
    "This leads to the conslusion that $\\pi bG = \\pi (r_o^2 - r_i^2)$ is simply the area of one side of the gasket. This means that the $y$ is the only part of the first equation that we need for our analysis. We need at least enough pressure from the shrink fit to reach the seating load.\n",
    "\n",
    "For the second equation, the first term is simply the prodcut of the internal working pressure and the cross sectional area normal to the central axis of the tank. In other words, this is the bolt load needed to prevent the ends from losing contact with the rest of the tank. Since we are loading the liner in the radial direction, we can also remove this term from our analysis of the liner as a gasket. The second term is similar to the first equation, but has a factor of two to account for both surfaces of the gasket that provide paths for escaping fluid, and $y$ is replaced with $mP$. Values for $m$ and $y$ appear to be imperically determined for different materials of varied thicknesses, and are found in tables provided by the ASME or material manufacturer. Dupont's PTFE Handbook lists PTFE as having a gasket factor, $m$, of 2.00 and a seating load, $y$, of 1200 psi for a 1/8\" gasket. Because there will only be a fluid path on one side of the liner, we assume the factor of two can be removed.  \n",
    "\n",
    "The modified equations we will then apply to our gasket geometry are as follows:\n",
    "\n",
    "$$\n",
    "\n",
    "\n",
    "\n",
    "\n"
   ]
  },
  {
   "cell_type": "markdown",
   "metadata": {},
   "source": [
    "### Maximum Thermal Contraction of End Cap \n",
    "\n",
    "Thermal expansion/contraction can be thought of as a scaling of the position vectors of all the points in a body of uniform composition relative to its centroid. The thermal change in radius of the end cap is thus given by the following linear thermal expansion relationship:\n",
    "\n",
    "$$r_{cyro} = r_{amb} - r_{amb}\\alpha_{Al}\\Delta T$$\n",
    "\n",
    "The maximum change in radius is then simply the absolute value of the thermal change in radius from ambient to cryogenic temperature:\n",
    "\n",
    "$$\\Delta r = r_{amb}\\alpha_{Al}\\Delta T$$"
   ]
  },
  {
   "cell_type": "code",
   "execution_count": 27,
   "metadata": {
    "collapsed": false,
    "scrolled": true
   },
   "outputs": [
    {
     "name": "stdout",
     "output_type": "stream",
     "text": [
      "The maximum change in end cap radius equals:  0.0076 in\n",
      "This means that the maximum theoretical interference for the shrink fit is  0.0076 in\n"
     ]
    }
   ],
   "source": [
    "rCryo = r - r*alphaAluminum*DeltaT \n",
    "Deltar = r-rCryo\n",
    "\n",
    "print('The maximum change in end cap radius equals: ', \"%.4f\" % DeltaR, 'in')\n",
    "print('This means that the maximum theoretical interference for the shrink fit is ', \"%.4f\" % DeltaR, 'in')"
   ]
  },
  {
   "cell_type": "markdown",
   "metadata": {},
   "source": [
    "## Clearance for the End Cap \n",
    "\n",
    "The above number does not account for some clearance to allow the end cap to slide into the liner. According to Engineer's Toolbox, a 3\" diameter hole needs a minumum of 0.0025\" of clearance to allow a shaft through with a free fit. This means that 0.00125\" must be subtracted from the interference shrink fit to arrive at an achievable change in liner thickness due to shrink fitting. Thus:\n",
    "$$\\delta_{Liner, amb} = \\Delta r - 0.0025\"$$"
   ]
  },
  {
   "cell_type": "code",
   "execution_count": 28,
   "metadata": {
    "collapsed": false
   },
   "outputs": [
    {
     "name": "stdout",
     "output_type": "stream",
     "text": [
      "The achievable ambient temperature change in liner thickness due to shrink fitting is 0.0051 in\n"
     ]
    }
   ],
   "source": [
    "deltaLinerAmbient = DeltaR - 0.0025\n",
    "\n",
    "print('The achievable ambient temperature change in liner thickness due to shrink fitting is', \"%.4f\" % deltaLinerAmbient, 'in')"
   ]
  },
  {
   "cell_type": "markdown",
   "metadata": {},
   "source": [
    "## Maximum Pressure Exerted on Liner at Ambient Temperature\n",
    "\n",
    "The radial stress due to the compression of the liner follows Hooke's Law:\n",
    "\n",
    "$$\\sigma_{PTFE, amb} = \\frac{\\delta_{Liner, amb}}{t_{amb}}E_{PTFE, amb}$$\n",
    "\n",
    "Where $t_{amb}$ is the liner thickness at ambient temperature before compression."
   ]
  },
  {
   "cell_type": "code",
   "execution_count": 32,
   "metadata": {
    "collapsed": false
   },
   "outputs": [
    {
     "name": "stdout",
     "output_type": "stream",
     "text": [
      "The maximum ambient temperature pressure achievable for the Liner is 1646.03 psi\n"
     ]
    }
   ],
   "source": [
    "sigmaPTFEAmbient = (deltaLinerAmbient/T)*EPTFE\n",
    "\n",
    "print('The maximum ambient temperature pressure achievable for the Liner is', \"%.2f\" % sigmaPTFEAmbient, 'psi')"
   ]
  },
  {
   "cell_type": "markdown",
   "metadata": {},
   "source": [
    "The yield stress for PTFE at ambient temperature is 1300 psi, so we must reduce the extent to which the liner is compressed. The benefit of this is that it allows us to leave more clearance for the end cap, thus making the shrink fit operation easier to perform. Before considering the ambient temperature stress for smaller changes in liner thickness, let us first take a look at the liner stress under cryogenic conditions."
   ]
  },
  {
   "cell_type": "markdown",
   "metadata": {},
   "source": [
    "## Maximum Pressure Exerted on Liner at Cryogenic Temperature\n",
    "\n",
    "The liner will contract at cryogenic temperature, which will serve to reduce its stress due to the shrink fit, while the increase in elastic modulus at that temperature will increase its stress. This means that the liner will have a different stress state one once the tank is filled with LN2. The liner thickness at cryogenic temperature is:\n",
    "\n",
    "$$t_{cryo} = t_{amb} - t_{amb}\\alpha_{PTFE}\\Delta T$$\n",
    "\n",
    "The thermal contraction of the liner thickness is given by:\n",
    "\n",
    "$$\\delta_t = t_{amb}\\alpha_{PTFE}\\Delta T$$\n",
    "\n",
    "The gap between aluminum rings will contract as well, leaving slightly less room for the liner at cryogenic temperature. The gap size at ambient temperature is specified to be the difference between the liner thickness and the change in liner thickness:\n",
    "\n",
    "$$t_{gap} = t_{amb} - \\delta_{Liner, amb}$$\n",
    "\n",
    "The change in gap width is:\n",
    "\n",
    "$$\\delta_{gap} = t_{gap}\\alpha_{Al}\\Delta T$$\n",
    "\n",
    "The change in liner thickness at cryogenic temperature is then given by:\n",
    "\n",
    "$$\\delta_{Liner, cryo} = \\delta_{Liner, amb} + \\delta_{gap} - \\delta_t$$\n",
    "\n",
    "The Liner's radial stress at cryogenic temperature is given by:\n",
    "\n",
    "$$\\sigma_{PTFE, cryo} = \\frac{\\delta_{Liner, cryo}}{t_{cryo}}E_{PTFE, cryo}$$"
   ]
  },
  {
   "cell_type": "code",
   "execution_count": 31,
   "metadata": {
    "collapsed": false,
    "scrolled": true
   },
   "outputs": [
    {
     "name": "stdout",
     "output_type": "stream",
     "text": [
      "The liner thickness at cryogenic temperature is 0.1227 in\n",
      "The change in liner thickness due to thermal contraction is 0.0023 in\n",
      "The ambient temperature liner gap width is 0.1199 in\n",
      "The change in gap width is 0.0006 in\n",
      "The total change in liner thickness at cryogenic temperature is 0.0034 in\n",
      "Thus, the maximum achievable pressure exerted on the PTFE at cryogenic temperature is 13981.37 psi\n"
     ]
    }
   ],
   "source": [
    "tCryo = t - t*alphaPTFE*DeltaT\n",
    "print ('The liner thickness at cryogenic temperature is', \"%.4f\" % tCryo,'in')\n",
    "deltat = t*alphaPTFE*DeltaT\n",
    "print ('The change in liner thickness due to thermal contraction is', \"%.4f\" % deltat, 'in')\n",
    "tGap = t - deltaLinerAmbient\n",
    "print ('The ambient temperature liner gap width is', \"%.4f\" % tGap, 'in')\n",
    "deltaGap = tGap*alphaAluminum*DeltaT\n",
    "print ('The change in gap width is', \"%.4f\" % deltaGap, 'in')\n",
    "deltaLinerCryo = deltaLinerAmbient + deltaGap - deltat\n",
    "print ('The total change in liner thickness at cryogenic temperature is', \"%.4f\" % deltaLinerCryo, 'in')\n",
    "sigmaPTFECryo = (deltaLinerCryo/tCryo)*EPTFECryo\n",
    "print('Thus, the maximum achievable pressure exerted on the PTFE at cryogenic temperature is', \"%.2f\" % sigmaPTFECryo, 'psi')"
   ]
  },
  {
   "cell_type": "markdown",
   "metadata": {},
   "source": [
    "Although the load on the PTFE at cryogenic temperature is greater, the yield strength of the PTFE is much greater at 19000 psi. This means that the best seal we can achieve at cryogenic temperature involves loading the PTFE to 73.6% of its yield strength. We cannot _actually_ get here though because to do so would require allowing the liner to plastically deform at room temperature beforehand. Let's return to the room temperature stress analysis. "
   ]
  },
  {
   "cell_type": "markdown",
   "metadata": {},
   "source": [
    "## Loading the Liner to 95% of Yield at Ambient Temperature\n",
    "\n",
    "As mentioned, the maximum load achievable will yield the liner material, so the change in ambient temperature liner thickness must be reduced. This can be accomplished by returning to the equation for stress in the liner:\n",
    "\n",
    "$$\\sigma_{PTFE, amb} = \\frac{\\delta_{Liner, amb}}{t_{amb}}E_{PTFE, amb}$$\n",
    "\n",
    "Rearranging this equation and substituting 95% of PTFE's room temperature yield stress for stress gives:\n",
    "\n",
    "$$\\delta_{Liner, amb} = \\frac{0.95sigma_{y, PTFE}t_{amb}}{E_{PTFE, amb}}$$"
   ]
  },
  {
   "cell_type": "code",
   "execution_count": null,
   "metadata": {
    "collapsed": true
   },
   "outputs": [],
   "source": []
  }
 ],
 "metadata": {
  "kernelspec": {
   "display_name": "Python 3",
   "language": "python",
   "name": "python3"
  },
  "language_info": {
   "codemirror_mode": {
    "name": "ipython",
    "version": 3
   },
   "file_extension": ".py",
   "mimetype": "text/x-python",
   "name": "python",
   "nbconvert_exporter": "python",
   "pygments_lexer": "ipython3",
   "version": "3.6.0"
  }
 },
 "nbformat": 4,
 "nbformat_minor": 0
}
