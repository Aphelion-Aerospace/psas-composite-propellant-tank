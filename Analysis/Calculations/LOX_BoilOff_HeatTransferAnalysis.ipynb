{
 "cells": [
  {
   "cell_type": "markdown",
   "metadata": {
    "collapsed": true
   },
   "source": [
    "#Heat and Mass Transfer Analysis of Liquid Oxygen Boil-Off due to Conduction through Composite Layers.\n",
    "\n",
    "##Objective: \n",
    "Determine a rough estimate of the time it takes for a 3\" diameter 5.15\" long cylinder of liquid oxygen to boil off on a hot summer day in Brothers, OR (T~38C).\n",
    "\n",
    "##Assumptions: \n",
    "\n",
    "- The temperature of the outermost carbon fiber layer is equal to the ambient air temperature ($T_s = T_{inf}$).\n",
    "\n",
    "- The temperature of the innermost (PTFE) layer is equal to the liquid oxygen (LOX) temperature ($T_1 = T_{lox}$).\n",
    "\n",
    "- The Nomex Honecomb layer is considered to be composed of mostly air.\n",
    "\n",
    "- Convection and radiation effects are neglected.\n",
    "\n",
    "- Material properties are constant. "
   ]
  },
  {
   "cell_type": "code",
   "execution_count": null,
   "metadata": {},
   "outputs": [],
   "source": [
    "# Import packages here:\n",
    "\n",
    "import math as m\n",
    "import numpy as np\n",
    "from IPython.display import Image\n",
    "import matplotlib.pyplot as plt\n",
    "Image(filename='LayerRep.png')"
   ]
  },
  {
   "cell_type": "code",
   "execution_count": 25,
   "metadata": {},
   "outputs": [],
   "source": [
    "# Properties of Materials (engineeringtoolbox.com, Cengel, Tian)\n",
    "\n",
    "# Conductivity\n",
    "Kair = 0.026  # w/mk\n",
    "Kptfe = 0.25  # w/mk\n",
    "Kcf = 0.8  # transverse conductivity 0.5 -0.8 w/mk\n",
    "\n",
    "# Fluid Properties\n",
    "\n",
    "rhoLox = 1141  # kg/m^3\n",
    "TLox = -183  # *C\n",
    "\n",
    "# Latent Heat of Evaporation\n",
    "heOxy = 214  # kj/kg\n",
    "\n",
    "\n",
    "# Layer Dimensions:\n",
    "\n",
    "r1 = 0.0381  # meters (1.5\")\n",
    "r2 = 0.0396  # m\n",
    "r3 = 0.0399  # m\n",
    "r4 = 0.0446  # m\n",
    "r5 = 0.0449  # m\n",
    "L = 0.13081  # meters (5.15\")\n",
    "\n",
    "# Environmental Properties:\n",
    "\n",
    "Ts = 38  # *C\n",
    "T1 = -183  #*C"
   ]
  },
  {
   "cell_type": "markdown",
   "metadata": {},
   "source": [
    "The following analysis was performed using steady heat conduction analysis of multilayered cylinders (cengel, pg 156). The heat transfer rate is given by:\n",
    "\n",
    "$$\\dot{Q} = \\frac{T_s -T_1}{R_{total}}$$\n",
    "\n",
    "where $R_{total}$ is the total thermal resistance expressed as:\n",
    "\n",
    "$$R_{total} = R_{PTFE} + R_{CF1} + R_{Air}+ R_{CF2}$$\n",
    "\n",
    "where: \n",
    "\n",
    "$$R_{material} = (\\frac{ln(r_{outer} / r_{inner})}{2*\\pi*L*K_{material}})$$\n"
   ]
  },
  {
   "cell_type": "code",
   "execution_count": 22,
   "metadata": {
    "collapsed": true
   },
   "outputs": [
    {
     "name": "stdout",
     "output_type": "stream",
     "text": [
      "Total Thermal Resistance equals:  5.42 K/W\n"
     ]
    }
   ],
   "source": [
    "Rptfe = m.log(r2/r1)/(2*m.pi*L*Kptfe)\n",
    "Rcf1 = m.log(r3/r2)/(2*m.pi*L*Kcf)\n",
    "Rair = m.log(r4/r3)/(2*m.pi*L*Kair)\n",
    "Rcf2 = m.log(r5/r4)/(2*m.pi*L*Kcf)\n",
    "\n",
    "Rtot = Rptfe + Rcf1 + Rair + Rcf2 \n",
    "\n",
    "print('Total Thermal Resistance equals: ', \"%.2f\" % Rtot, 'K/W')"
   ]
  },
  {
   "cell_type": "code",
   "execution_count": 27,
   "metadata": {},
   "outputs": [
    {
     "name": "stdout",
     "output_type": "stream",
     "text": [
      "Calculated Heat Transfer rate equals:  40.77 W\n"
     ]
    }
   ],
   "source": [
    "#Heat transfer rate: \n",
    "Qrate = (Ts - T1)/Rtot\n",
    "\n",
    "print('Calculated Heat Transfer rate equals: ',\"%.2f\" % Qrate, 'W')"
   ]
  },
  {
   "cell_type": "markdown",
   "metadata": {},
   "source": [
    "The energy balance on a thin layer of liquid at the surface is expressed by:\n",
    "\n",
    "$$\\dot{Q}_{transferred} = \\dot{Q}_{latent, absorbed}$$ or  $$\\dot{Q} = \\dot{m}_v*h_{e, oxygen}$$"
   ]
  },
  {
   "cell_type": "code",
   "execution_count": 28,
   "metadata": {},
   "outputs": [],
   "source": [
    ""
   ]
  },
  {
   "cell_type": "code",
   "execution_count": null,
   "metadata": {},
   "outputs": [],
   "source": [
    ""
   ]
  }
 ],
 "metadata": {
  "kernelspec": {
   "display_name": "Python 2",
   "language": "python",
   "name": "python2"
  },
  "language_info": {
   "codemirror_mode": {
    "name": "ipython",
    "version": 2.0
   },
   "file_extension": ".py",
   "mimetype": "text/x-python",
   "name": "python",
   "nbconvert_exporter": "python",
   "pygments_lexer": "ipython2",
   "version": "2.7.6"
  }
 },
 "nbformat": 4,
 "nbformat_minor": 0
}