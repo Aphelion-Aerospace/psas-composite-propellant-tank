{
 "cells": [
  {
   "cell_type": "markdown",
   "metadata": {
    "collapsed": true
   },
   "source": [
    "# Pressure Vessel Thermal Strain Analysis for Traditional Layering\n",
    "\n",
    "##Stress analysis of multilayer pressure vessels under thermal loads.\n",
    "\n",
    "Stress due to pressure in the nth layer is given by the equation: \n",
    "\n",
    "$$\\sigma_n = \\frac{p_n*r^2_n - p_{n+1}*r^2_{n+1}- r_n^2*r^2_{n+1}(p_{n+1}-p_n)/r^2}{(r^2_{n+1}-r^2_n)}\\ [1]$$\n",
    "\n",
    "According to Hook's Law, $\\sigma = E\\epsilon$, and thus the strain due to pressure is found by dividing Eq. 1 by the material's elastic modulus: \n",
    "\n",
    "$$\\sigma_n = \\frac{p_n*r^2_n - p_{n+1}*r^2_{n+1}- r_n^2*r^2_{n+1}(p_{n+1}-p_n)/r^2}{E_n(r^2_{n+1}-r^2_n)}\\ [2]$$\n",
    "\n",
    "Thermal Strain is Simply the product of the material's coefficient of thermal eexpansion and the change in temperature:\n",
    "\n",
    "$$\\epsilon_{n,T} = \\alpha_n \\Delta T \\ [3]$$\n",
    "\n",
    "The total strain is then the sum of Eq.2 and Eq.3:\n",
    "\n",
    "$$\\sigma_n = \\frac{p_n*r^2_n - p_{n+1}*r^2_{n+1}- r_n^2*r^2_{n+1}(p_{n+1}-p_n)/r^2}{E_n(r^2_{n+1}-r^2_n)} + \\alpha_n \\Delta T\\ [4] $$\n",
    "\n",
    "Assuming that the materials are bonded at the interfaces, have isotropic properties, and that their change in thickness is negligible compared to change in their circumferences, the strain equations can be equated to each other at the interfaces. Substituting known values and solving the systems of equations reveals the pressure at each interface. These values can then be substituted back into Eq. 4, and both sides multiplied by the elastic modulus. The maximum stress in a cylindrical pressure vessel occurs at the innermost fiber, so the maximum stress in each layer is then found by:\n",
    "\n",
    "$$\\sigma_n = \\frac{p_n*r^2_n - p_{n+1}*r^2_{n+1}- r_n^2*r^2_{n+1}(p_{n+1}-p_n)}{(r^2_{n+1}-r^2_n)} + \\epsilon_n \\alpha_n \\Delta T\\ [5] $$\n",
    "\n",
    "Finally, this can be compared with the yield stress of the material to obtain a factor of safety for each layers:\n",
    "\n",
    "$$FOS = \\frac{\\sigma_{n,y}}{\\sigma_{n,max}}\\ [6]$$\n"
   ]
  },
  {
   "cell_type": "markdown",
   "metadata": {},
   "source": [
    ""
   ]
  },
  {
   "cell_type": "markdown",
   "metadata": {},
   "source": [
    ""
   ]
  },
  {
   "cell_type": "code",
   "execution_count": null,
   "metadata": {},
   "outputs": [],
   "source": [
    ""
   ]
  }
 ],
 "metadata": {
  "kernelspec": {
   "display_name": "Python 2",
   "language": "python",
   "name": "python2"
  },
  "language_info": {
   "codemirror_mode": {
    "name": "ipython",
    "version": 2.0
   },
   "file_extension": ".py",
   "mimetype": "text/x-python",
   "name": "python",
   "nbconvert_exporter": "python",
   "pygments_lexer": "ipython2",
   "version": "2.7.6"
  }
 },
 "nbformat": 4,
 "nbformat_minor": 0
}
